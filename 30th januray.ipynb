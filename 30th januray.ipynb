{
 "cells": [
  {
   "cell_type": "code",
   "execution_count": null,
   "id": "e751d4b6-0ac8-4235-a45a-622c67dce24d",
   "metadata": {},
   "outputs": [],
   "source": [
    "1. Write a program to accept percentage from the user and display the grade according to the following \n",
    "criteria:\n",
    "    \n",
    "Marks                    Grade \n",
    ">90                        A \n",
    ">80 and <=90               B \n",
    ">=60 and <=80              C \n",
    "below 60                   D \n"
   ]
  },
  {
   "cell_type": "code",
   "execution_count": null,
   "id": "9556e025-1ac4-4483-8c87-786db8d530bf",
   "metadata": {},
   "outputs": [],
   "source": [
    "print(\"Enter your percentage and know your grade \")\n",
    "percent = int(input(\"Enter Percentage : \"))\n",
    "if percent<0 or percent>100:\n",
    "    print(\"Please enter a valid percentage\")\n",
    "else:\n",
    "    if percent>90:\n",
    "        result=\"A\"\n",
    "    elif percent>80 and percent <=90:\n",
    "        result=\"B\"\n",
    "    elif percent>=60 and percent <=80:\n",
    "        result=\"C\"    \n",
    "    else:\n",
    "        result=\"D\"\n",
    "    print(\"GRADE : \" + str(result))   \n"
   ]
  },
  {
   "cell_type": "code",
   "execution_count": null,
   "id": "0a3dc2c1-a8a9-42e5-b1bb-58498eeeede1",
   "metadata": {},
   "outputs": [],
   "source": [
    "2. Write a program to accept the cost price of a bike and display the road tax to be paid according to the \n",
    "following criteria: \n",
    "    \n",
    "Tax         Cost Price(in Rs) \n",
    "15%           >100000 \n",
    "10%           50000 and <= 100000 \n",
    "5%            <= 50000 "
   ]
  },
  {
   "cell_type": "code",
   "execution_count": null,
   "id": "4d89e118-6b60-42ee-a6bf-f8a95ca95d2f",
   "metadata": {},
   "outputs": [],
   "source": [
    "cost_price = float(input(\"Enter the cost of bike : \"))\n",
    "if cost_price<0:\n",
    "    print(\"This pricing is not possible for a bike : \")\n",
    "else:\n",
    "    if cost_price>100000:\n",
    "        tax_rate=0.15\n",
    "    elif cost_price>50000 and cost_price<=100000:\n",
    "        tax_rate=0.10\n",
    "    else:\n",
    "        tax_rate=0.05\n",
    "    tax=cost_price * tax_rate\n",
    "    print(\"Tax applicable on your bike is : \",tax)  \n",
    "    \n",
    "    \n"
   ]
  },
  {
   "cell_type": "code",
   "execution_count": null,
   "id": "a7103490-a16b-401b-b710-47d997a5e284",
   "metadata": {},
   "outputs": [],
   "source": [
    "3. Accept any city from the user and display monuments of that city. \n",
    "\n",
    "City                 Monument\n",
    "Delhi                 Red Fort\n",
    "Agra                  Taj Mahal\n",
    "Jaipur                Jal Mahal \n"
   ]
  },
  {
   "cell_type": "code",
   "execution_count": null,
   "id": "733770ac-5e26-4351-a34b-10aa362e8933",
   "metadata": {},
   "outputs": [],
   "source": [
    "city_monument = {'Delhi':'Red Fort', 'Agra':'Taj Mahal', 'Jaipur':' Jal Mahal '}\n",
    "city = str(input(\"Please enter the city : \"))\n",
    "try:\n",
    "    city_monument[city]\n",
    "    print(\"Monument in this city is : \",city_monument[city])\n",
    "except KeyError as error:\n",
    "    print(\"Looks like this city doesn't exist in our dictionary\")\n"
   ]
  },
  {
   "cell_type": "code",
   "execution_count": null,
   "id": "bc58b32c-f613-4289-beda-aa1a63e1e5c0",
   "metadata": {},
   "outputs": [],
   "source": [
    "4. Check how many times a given number can be divided by 3 before it is less than or equal to 10. \n"
   ]
  },
  {
   "cell_type": "code",
   "execution_count": 1,
   "id": "42169a18-6b18-4748-bd0d-e9e1d9933e6a",
   "metadata": {},
   "outputs": [
    {
     "name": "stdin",
     "output_type": "stream",
     "text": [
      "Enter the number you want to divide with 3 :  999\n"
     ]
    },
    {
     "name": "stdout",
     "output_type": "stream",
     "text": [
      "4\n"
     ]
    }
   ],
   "source": [
    "number = int(input(\"Enter the number you want to divide with 3 : \"))\n",
    "count=0\n",
    "while(number/3>10):\n",
    "    number = number/3\n",
    "    count=count+1\n",
    "print(count)"
   ]
  },
  {
   "cell_type": "code",
   "execution_count": null,
   "id": "69d7d2b3-e2c8-463b-af05-716d2c737d81",
   "metadata": {},
   "outputs": [],
   "source": [
    "5. Why and When to Use while Loop in Python give a detailed description with example \n",
    "\n",
    "Answer : While is used in python when we want to execute some statement/statements repeatedly based on a certaib condition . \n",
    "\n",
    "Example : Suppose I want to count how many times 200 can be subtracted by 20 before reaching the value 0 . Then I can apply the while loop to subtract \n",
    "50 from 200 untill it becomes zero . \n",
    "\n",
    "num=200\n",
    "while(num>0):\n",
    "    num=num-50\n",
    "    count++"
   ]
  },
  {
   "cell_type": "code",
   "execution_count": null,
   "id": "6392de78-c4db-4c4a-b0d3-c6023bf5924e",
   "metadata": {},
   "outputs": [],
   "source": [
    " 6.Use nested while loop to print 3 different pattern. \n"
   ]
  },
  {
   "cell_type": "code",
   "execution_count": 17,
   "id": "2a221bba-c9f6-4aa7-b2ce-d3267a77564e",
   "metadata": {},
   "outputs": [
    {
     "name": "stdin",
     "output_type": "stream",
     "text": [
      "Enter number of rows :  5\n"
     ]
    },
    {
     "name": "stdout",
     "output_type": "stream",
     "text": [
      "* \n",
      "* * \n",
      "* * * \n",
      "* * * * \n",
      "* * * * * \n"
     ]
    }
   ],
   "source": [
    "n = int(input('Enter number of rows : '))\n",
    " \n",
    "i = 1\n",
    "while i <= n :\n",
    "    j = 1\n",
    "    while j <= i:\n",
    "        print(\"*\", end = \" \")\n",
    "        j += 1\n",
    "    print()\n",
    "    i += 1"
   ]
  },
  {
   "cell_type": "code",
   "execution_count": 18,
   "id": "08ce4774-1567-44f8-9af1-58ad212a51f4",
   "metadata": {},
   "outputs": [
    {
     "name": "stdin",
     "output_type": "stream",
     "text": [
      "Enter number of rows :  8\n"
     ]
    },
    {
     "name": "stdout",
     "output_type": "stream",
     "text": [
      "  1 \n",
      "  2   3 \n",
      "  4   5   6 \n",
      "  7   8   9  10 \n",
      " 11  12  13  14  15 \n",
      " 16  17  18  19  20  21 \n",
      " 22  23  24  25  26  27  28 \n",
      " 29  30  31  32  33  34  35  36 \n"
     ]
    }
   ],
   "source": [
    "n = int(input('Enter number of rows : '))\n",
    " \n",
    "k = 1\n",
    "i = 1\n",
    "while i <= n :\n",
    "    j = 1\n",
    "    while j <= i:\n",
    "        print(\"{:3d}\".format(k), end = \" \")\n",
    "        j += 1\n",
    "        k += 1\n",
    "    print()\n",
    "    i += 1"
   ]
  },
  {
   "cell_type": "code",
   "execution_count": 19,
   "id": "787dfc59-ae35-477d-a9c5-6ab046c56473",
   "metadata": {},
   "outputs": [
    {
     "name": "stdin",
     "output_type": "stream",
     "text": [
      "Enter number of rows :  10\n"
     ]
    },
    {
     "name": "stdout",
     "output_type": "stream",
     "text": [
      "# # # # # # # # # # \n",
      "# # # # # # # # # \n",
      "# # # # # # # # \n",
      "# # # # # # # \n",
      "# # # # # # \n",
      "# # # # # \n",
      "# # # # \n",
      "# # # \n",
      "# # \n",
      "# \n"
     ]
    }
   ],
   "source": [
    "n = int(input('Enter number of rows : '))\n",
    " \n",
    "i = 1\n",
    "while i <= n :\n",
    "    j = n\n",
    "    while j >= i:\n",
    "        print(\"#\", end = \" \")\n",
    "        j -= 1\n",
    "    print()\n",
    "    i += 1"
   ]
  },
  {
   "cell_type": "code",
   "execution_count": null,
   "id": "31a8f97f-a1a3-470b-ae74-c8cb36a73189",
   "metadata": {},
   "outputs": [],
   "source": [
    "7. Reverse a while loop to display numbers from 10 to 1. \n"
   ]
  },
  {
   "cell_type": "code",
   "execution_count": 20,
   "id": "5152de25-1df6-4bfd-9144-5bbd96fd09c0",
   "metadata": {},
   "outputs": [
    {
     "name": "stdout",
     "output_type": "stream",
     "text": [
      "10\n",
      "9\n",
      "8\n",
      "7\n",
      "6\n",
      "5\n",
      "4\n",
      "3\n",
      "2\n",
      "1\n"
     ]
    }
   ],
   "source": [
    "i = 10\n",
    "while i > 0:\n",
    "    print(i)\n",
    "    i = i - 1"
   ]
  },
  {
   "cell_type": "code",
   "execution_count": null,
   "id": "7ccbf976-ad77-4662-903b-4989d9753182",
   "metadata": {},
   "outputs": [],
   "source": [
    "7. Reverse a while loop to display numbers from 10 to 1. "
   ]
  },
  {
   "cell_type": "code",
   "execution_count": 21,
   "id": "3a431b6e-c437-4ac6-a396-ec2bd759925d",
   "metadata": {},
   "outputs": [
    {
     "name": "stdout",
     "output_type": "stream",
     "text": [
      "10\n",
      "9\n",
      "8\n",
      "7\n",
      "6\n",
      "5\n",
      "4\n",
      "3\n",
      "2\n",
      "1\n"
     ]
    }
   ],
   "source": [
    "i = 10\n",
    "while i > 0:\n",
    "    print(i)\n",
    "    i = i - 1"
   ]
  },
  {
   "cell_type": "code",
   "execution_count": null,
   "id": "504c37f9-5edf-4b7b-95ad-d15e1b6ebfc1",
   "metadata": {},
   "outputs": [],
   "source": []
  }
 ],
 "metadata": {
  "kernelspec": {
   "display_name": "Python 3 (ipykernel)",
   "language": "python",
   "name": "python3"
  },
  "language_info": {
   "codemirror_mode": {
    "name": "ipython",
    "version": 3
   },
   "file_extension": ".py",
   "mimetype": "text/x-python",
   "name": "python",
   "nbconvert_exporter": "python",
   "pygments_lexer": "ipython3",
   "version": "3.10.8"
  }
 },
 "nbformat": 4,
 "nbformat_minor": 5
}
