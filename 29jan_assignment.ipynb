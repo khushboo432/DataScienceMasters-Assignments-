{
 "cells": [
  {
   "cell_type": "code",
   "execution_count": null,
   "id": "d76a25fd-b988-4565-a1f7-6de1b0b01021",
   "metadata": {},
   "outputs": [],
   "source": [
    "1. Who developed Python Programming Language? \n",
    "\n",
    "Guido van Rossum created the python language and is populary known as 'as the creator of the Python programming language'."
   ]
  },
  {
   "cell_type": "code",
   "execution_count": null,
   "id": "4c77ee14-4c22-4a18-a704-2e91e22bb086",
   "metadata": {},
   "outputs": [],
   "source": [
    "2. Which type of Programming does Python support?\n",
    "\n",
    "Python supports following types of programming -\n",
    "1. Object Oriented programming\n",
    "2. Structured programming\n",
    "3. Functional programming \n"
   ]
  },
  {
   "cell_type": "code",
   "execution_count": null,
   "id": "caa2e9c4-ef8e-4eea-9d34-9af4d05b1578",
   "metadata": {},
   "outputs": [],
   "source": [
    "3. Is Python case sensitive when dealing with identifiers? \n",
    "\n",
    "Yes , python is case sensitive while dealing with identifiers."
   ]
  },
  {
   "cell_type": "code",
   "execution_count": null,
   "id": "e92c279a-0de9-4d9a-ac0e-8e92d84cb0c6",
   "metadata": {},
   "outputs": [],
   "source": [
    "4. What is the correct extension of the Python file? \n",
    "\n",
    "Correct extension of the Python file is '.py'."
   ]
  },
  {
   "cell_type": "code",
   "execution_count": null,
   "id": "e9b84996-9f23-4dfd-98df-c98836c60a5e",
   "metadata": {},
   "outputs": [],
   "source": [
    "5. Is Python code compiled or interpreted? \n",
    "\n",
    "Python code is interpreted . \n"
   ]
  },
  {
   "cell_type": "code",
   "execution_count": null,
   "id": "e31666ef-724c-4ca7-8ceb-fb8d9cff5fd9",
   "metadata": {},
   "outputs": [],
   "source": [
    "6. Name a few blocks of code used to define in Python language? \n",
    "\n",
    "Different blocks of code in python are -\n",
    "1. Function \n",
    "2. Class\n",
    "3. Module "
   ]
  },
  {
   "cell_type": "code",
   "execution_count": null,
   "id": "5cfcbef5-0cef-4ca1-8201-9def2def5d3e",
   "metadata": {},
   "outputs": [],
   "source": [
    "7. State a character used to give single-line comments in Python? \n",
    "\n",
    "# (hash) is used to give single line comments in python . "
   ]
  },
  {
   "cell_type": "code",
   "execution_count": null,
   "id": "96f76740-19b9-4653-a41a-20a647b06c00",
   "metadata": {},
   "outputs": [],
   "source": [
    "8. Mention functions which can help us to find the version of python that we are currently working on? \n",
    "\n"
   ]
  }
 ],
 "metadata": {
  "kernelspec": {
   "display_name": "Python 3 (ipykernel)",
   "language": "python",
   "name": "python3"
  },
  "language_info": {
   "codemirror_mode": {
    "name": "ipython",
    "version": 3
   },
   "file_extension": ".py",
   "mimetype": "text/x-python",
   "name": "python",
   "nbconvert_exporter": "python",
   "pygments_lexer": "ipython3",
   "version": "3.10.8"
  }
 },
 "nbformat": 4,
 "nbformat_minor": 5
}
