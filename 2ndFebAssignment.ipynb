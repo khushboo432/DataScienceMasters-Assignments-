{
 "cells": [
  {
   "cell_type": "code",
   "execution_count": null,
   "id": "2b5aec10-7b7e-49ac-ae87-c17f088f91c4",
   "metadata": {},
   "outputs": [],
   "source": [
    "Q1. What are the characteristics of the tuples? Is tuple immutable? \n",
    "\n",
    "Answer : Characteristic of tuples are as follows : \n",
    "    \n",
    "1. Ordered \n",
    "2. Allow duplicates \n",
    "3. Unchangeable\n",
    "4. Indexed\n",
    "\n",
    "Tuples are immutable . "
   ]
  },
  {
   "cell_type": "code",
   "execution_count": null,
   "id": "b18c47b9-2710-48e0-bbb2-33b9b124a38f",
   "metadata": {},
   "outputs": [],
   "source": [
    "Q2. What are the two tuple methods in python? Give an example of each method. Give a reason why  tuples have only two in-built methods as \n",
    "compared to Lists. \n",
    "\n",
    "Answer : Two tuple methods in python are as follows : 1. Index() : The Index() method returns the first occurrence of the given element from the tuple.    \n",
    "                                                      2. Count() : The count() method of Tuple returns the number of times the given element appears in the \n",
    "    tuple.\n",
    "    \n",
    "    Example : 1: Index() : numtuple = (1, 3, 7, 8, 7, 5, 4, 6, 8, 5)\n",
    "\n",
    "                            numindex = thistuple.index(8)\n",
    "\n",
    "                            print(numindex)\n",
    "            \n",
    "    Example : 2: Count() : numtuple = (1, 3, 7, 8, 7, 5, 4, 6, 8, 5)\n",
    "\n",
    "                            numcount = thistuple.count(5)\n",
    "\n",
    "                            print(numcount)\n",
    "            \n",
    "    There are only two built in methods in tuples because they are \"immutable\" . "
   ]
  },
  {
   "cell_type": "code",
   "execution_count": null,
   "id": "b14a21f7-12e5-4a6b-9825-9509a03feb00",
   "metadata": {},
   "outputs": [],
   "source": [
    "Q3.  Which collection datatypes in python do not allow duplicate items? Write a code using a set to remove  duplicates from the given list. \n",
    "List = [1, 1, 1, 2, 1, 3, 1, 4, 2, 1, 2, 2, 2, 3, 2, 4, 3, 1, 3, 2, 3, 3, 3, 4, 4, 1, 4, 2, 4, 3, 4, 4] \n",
    "\n",
    "\n",
    "Answer : \"Set\" is a collection datatype in python which does not allow duplicate values .\n",
    "\n",
    "Code to remove duplicate item from the given list : [1, 1, 1, 2, 1, 3, 1, 4, 2, 1, 2, 2, 2, 3, 2, 4, 3, 1, 3, 2, 3, 3, 3, 4, 4, 1, 4, 2, 4, 3, 4, 4"
   ]
  },
  {
   "cell_type": "code",
   "execution_count": 1,
   "id": "49a38cc1-7d99-4f2b-9da4-c720ee85c4a2",
   "metadata": {},
   "outputs": [
    {
     "name": "stdout",
     "output_type": "stream",
     "text": [
      "Originally the list is : [1, 1, 1, 2, 1, 3, 1, 4, 2, 1, 2, 2, 2, 3, 2, 4, 3, 1, 3, 2, 3, 3, 3, 4, 4, 1, 4, 2, 4, 3, 4, 4]\n",
      "The list after removing duplicates: [1, 2, 3, 4]\n"
     ]
    }
   ],
   "source": [
    "mylist = [1, 1, 1, 2, 1, 3, 1, 4, 2, 1, 2, 2, 2, 3, 2, 4, 3, 1, 3, 2, 3, 3, 3, 4, 4, 1, 4, 2, 4, 3, 4, 4] \n",
    "print(\"Originally the list is : \" + str(mylist))\n",
    "mylist = list(set(mylist))\n",
    "print (\"The list after removing duplicates: \" + str(mylist)) "
   ]
  },
  {
   "cell_type": "code",
   "execution_count": null,
   "id": "443e47a4-4f59-4d87-9340-1e63859f7833",
   "metadata": {},
   "outputs": [],
   "source": [
    "Q4. Explain the difference between the union() and update() methods for a set. Give an example of  each method.\n",
    "\n",
    "Answer : Union() returns a set containing the union of sets while update() updates the set with another set, or any other iterable .\n",
    "update() adds all missing elements to the set on which it is called whereas set.union() creates a new set\n",
    "\n",
    "Examples : \n",
    "    \n",
    "1. Union() : x = {\"apple\", \"banana\", \"cherry\"}\n",
    "             y = {\"google\", \"microsoft\", \"apple\"}\n",
    "             z = x.union(y)\n",
    "            print(z)\n",
    "            \n",
    "2. Update() : x = {\"apple\", \"banana\", \"cherry\"}\n",
    "              y = {\"google\", \"microsoft\", \"apple\"}\n",
    "              x.update(y)\n",
    "              print(x)"
   ]
  },
  {
   "cell_type": "code",
   "execution_count": null,
   "id": "be52a768-2d20-4a9c-a96a-14326c1ae71d",
   "metadata": {},
   "outputs": [],
   "source": [
    "Q5. What is a dictionary? Give an example. Also, state whether a dictionary is ordered or unordered.\n",
    " \n",
    "Answer : \"Dictionary\" is  a collection datatype which is used to store key value pairs .dictionary is ordered mutable and does not allow duplicate \n",
    "values.\n",
    "\n",
    "books_authors = {\n",
    "    \"Angels & Demons\" : \"Dan Brown\",\n",
    "    \"Life is what you make it\" : \"Preety Shenoy\",\n",
    "    \"Five point someone\" : \"Chetan Bhagat\"\n",
    "}"
   ]
  },
  {
   "cell_type": "code",
   "execution_count": null,
   "id": "06faa3e9-81fa-49bb-99b5-ad56f144b36e",
   "metadata": {},
   "outputs": [],
   "source": [
    "Q6. Can we create a nested dictionary? If so, please give an example by creating a simple one-level\n",
    "nested dictionary.\n",
    "\n",
    "Answer : Yes , dictionaries can be nested .\n",
    "\n",
    "Example : college{\n",
    "    \n",
    "    \"CSE\" : {\"AI\":\"Artificial Intelligence\",\"IOT\":\"Internet of Things\",\"ML\":\"Mahine Learning\"}\n",
    "    \"Core\" : {\"ETC\":\"Electronics & Telecommunication\",\"ME\"::\"Mechanical Engineering\"}\n",
    "}"
   ]
  },
  {
   "cell_type": "code",
   "execution_count": null,
   "id": "5c7a0a15-2d1c-42ec-bfef-26dbda6c384e",
   "metadata": {},
   "outputs": [],
   "source": [
    "Q7. Using setdefault() method, create key named topics in the given dictionary and also add the value of\n",
    "the key as this list ['Python', 'Machine Learning’, 'Deep Learning']\n",
    "                      \n",
    "dict1 = {'language' : 'Python', 'course': 'Data Science Masters'}\n",
    "                      \n",
    "Answer : dict1.setdefault(\"topics\",['Python', 'Machine Learning’, 'Deep Learning'] )"
   ]
  },
  {
   "cell_type": "code",
   "execution_count": null,
   "id": "fae28544-463e-48bb-b402-20854afe35f3",
   "metadata": {},
   "outputs": [],
   "source": [
    "Q8. What are the three view objects in dictionaries? Use the three in-built methods in python to display\n",
    "these three view objects for the given dictionary.\n",
    "dict1 = {'Sport': 'Cricket' , 'Teams': ['India', 'Australia', 'England', 'South Africa', 'Sri Lanka', 'New Zealand']}\n",
    "\n",
    "Answer : The three view objects in dictionary is as follows : \n",
    "        1. Keys\n",
    "        2. Values \n",
    "        3. Items.\n",
    "        \n",
    "        Keys() method returns a view object. The view object contains the keys of the dictionary, as a list.\n",
    "        Example : print(dict1.keys())\n",
    "        Output : dict_keys(['Sport', 'Teams'])\n",
    "        \n",
    "        Values() method returns a view object. The view object contains the values of the dictionary, as a list.\n",
    "        Example : print(dict1.values())\n",
    "        Output : dict_values(['Cricket', ['India', 'Australia', 'England', 'South Africa', 'Sri Lanka', 'New Zealand']])\n",
    "        \n",
    "        Items() method returns a view object. The view object contains the key-value pairs of the dictionary, as tuples in a list.\n",
    "        Example:print(dict1.items())\n",
    "        Output: dict_items([('Sport', 'Cricket'), ('Teams', ['India', 'Australia', 'England', 'South Africa', 'Sri Lanka', 'New Zealand'])])\n",
    "        \n",
    "        "
   ]
  }
 ],
 "metadata": {
  "kernelspec": {
   "display_name": "Python 3 (ipykernel)",
   "language": "python",
   "name": "python3"
  },
  "language_info": {
   "codemirror_mode": {
    "name": "ipython",
    "version": 3
   },
   "file_extension": ".py",
   "mimetype": "text/x-python",
   "name": "python",
   "nbconvert_exporter": "python",
   "pygments_lexer": "ipython3",
   "version": "3.10.8"
  }
 },
 "nbformat": 4,
 "nbformat_minor": 5
}
