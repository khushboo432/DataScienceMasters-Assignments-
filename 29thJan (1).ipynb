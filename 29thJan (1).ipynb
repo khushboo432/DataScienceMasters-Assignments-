{
 "cells": [
  {
   "cell_type": "code",
   "execution_count": 2,
   "id": "f7cfeed2-aa86-4850-bfa0-cbbb2d497285",
   "metadata": {},
   "outputs": [],
   "source": [
    "Q1. Who developed Python Programming Language? \n",
    "Ans.Guido van Rossum "
   ]
  },
  {
   "cell_type": "code",
   "execution_count": null,
   "id": "04a026ab-4426-4c34-a574-0d0935082a18",
   "metadata": {},
   "outputs": [],
   "source": [
    "Q2. Which type of Programming does Python support? \n",
    "Ans.Python is an interpreted programming language which supports object-oriented, structured, and functional programming."
   ]
  },
  {
   "cell_type": "code",
   "execution_count": null,
   "id": "2e3c0109-b1c6-408c-b841-921ab74a25dc",
   "metadata": {},
   "outputs": [],
   "source": [
    "Q3. Is Python case sensitive when dealing with identifiers?\n",
    "Ans.Yes"
   ]
  },
  {
   "cell_type": "code",
   "execution_count": null,
   "id": "0b83bd45-40bb-4ff8-8538-9f42fecd3570",
   "metadata": {},
   "outputs": [],
   "source": [
    "Q4. What is the correct extension of the Python file?\n",
    "Ans  .py"
   ]
  },
  {
   "cell_type": "code",
   "execution_count": null,
   "id": "7756741d-00fd-482d-9fff-2fa1eae606b4",
   "metadata": {},
   "outputs": [],
   "source": [
    "Q5. Is Python code compiled or interpreted?\n",
    "Ans.Interpreted"
   ]
  },
  {
   "cell_type": "code",
   "execution_count": null,
   "id": "b355fe11-c3e8-4f8c-b3e7-6f3929c2474b",
   "metadata": {},
   "outputs": [],
   "source": [
    "Q6. Name a few blocks of code used to define in Python language?\n",
    "Ans.(i)A module\n",
    "    (ii)A function body\n",
    "    (iii)A class definition"
   ]
  },
  {
   "cell_type": "code",
   "execution_count": null,
   "id": "09ab25c1-acbb-4e16-bd45-53d38b4207c4",
   "metadata": {},
   "outputs": [],
   "source": [
    "Q7. State a character used to give single-line comments in Python? \n",
    "Ans. #"
   ]
  },
  {
   "cell_type": "code",
   "execution_count": null,
   "id": "f90600b0-d2d0-45d2-b580-7ac59553b1ff",
   "metadata": {},
   "outputs": [],
   "source": [
    "Q8. Mention functions which can help us to find the version of python that we are currently working on? \n",
    "Ans.(i)Using sys.version method\n",
    "    (ii)Using python_version() function\n",
    "    (iii)Using Python -V command"
   ]
  },
  {
   "cell_type": "code",
   "execution_count": null,
   "id": "cd7571d5-d6e9-491a-bb99-cf19b1b09bf6",
   "metadata": {},
   "outputs": [],
   "source": [
    "Q9. Python supports the creation of anonymous functions at runtime, using a construct called ______\n",
    "Ans. def"
   ]
  },
  {
   "cell_type": "code",
   "execution_count": null,
   "id": "73d73265-5fe9-4138-914f-211c4a287fc5",
   "metadata": {},
   "outputs": [],
   "source": [
    "Q10. What does pip stand for python? \n",
    "Ans. Preferred Installer Program"
   ]
  },
  {
   "cell_type": "code",
   "execution_count": null,
   "id": "8e0df5c1-0645-47f4-8683-6c6feebf32cc",
   "metadata": {},
   "outputs": [],
   "source": [
    "Q11. Mention a few built-in functions in python? \n",
    "Ans. print(), input() , len() , type()"
   ]
  },
  {
   "cell_type": "code",
   "execution_count": null,
   "id": "c25a7444-4c16-4780-b49c-9a1416e2af2b",
   "metadata": {},
   "outputs": [],
   "source": [
    "Q12. What is the maximum possible length of an identifier in Python? \n",
    "Ans. 79"
   ]
  },
  {
   "cell_type": "code",
   "execution_count": null,
   "id": "51ca0d13-3f13-4df8-bd2c-95263918886d",
   "metadata": {},
   "outputs": [],
   "source": [
    "Q13. What are the benefits of using Python? \n",
    "Ans.(i)Easy to Code\n",
    "    (ii)Easy to Read\n",
    "    (iii)Interpreted Language"
   ]
  },
  {
   "cell_type": "code",
   "execution_count": null,
   "id": "2010c8d0-7584-41ce-a974-6d5989ccd0ac",
   "metadata": {},
   "outputs": [],
   "source": [
    "Q14. How is memory managed in Python? \n",
    "Ans.Memory in Python is managed by Python private heap space. All Python objects and data structures are located in a private heap. This private heap is taken care of by Python Interpreter itself, and a programmer doesn't have access to this private heap"
   ]
  },
  {
   "cell_type": "code",
   "execution_count": null,
   "id": "0ec9bb3f-26a6-46f6-b36e-be0c697817a0",
   "metadata": {},
   "outputs": [],
   "source": [
    "Q15. How to install Python on Windows and set path variables? \n",
    "Ans.Step(i)Install python on your system from https://www.python.org\n",
    "    Step(ii)You need to locate where the python is being installed after downloading it. Press WINDOWS key and search for Python.\n",
    "    Step(iii)Click on open file location and you will be in a location where Python is installed, copy the location path from the top by clicking over it.\n",
    "    Step(iv)Press Windows Key and search \"Edit the System Environment Variables\" and click on it.\n",
    "    Step(v)Click the “Environmental Variables” button\n",
    "    Step(vi)Click on \"New\" button in the User section.\n",
    "    Step(vii)Now add a Variable Name and Path which you copied previously and click OK"
   ]
  },
  {
   "cell_type": "code",
   "execution_count": null,
   "id": "1451c5a6-72d9-40a9-8a99-06791a3bf9ae",
   "metadata": {},
   "outputs": [],
   "source": [
    "Q16 Is indentation required in python?\n",
    "Ans.Yes"
   ]
  }
 ],
 "metadata": {
  "kernelspec": {
   "display_name": "Python 3 (ipykernel)",
   "language": "python",
   "name": "python3"
  },
  "language_info": {
   "codemirror_mode": {
    "name": "ipython",
    "version": 3
   },
   "file_extension": ".py",
   "mimetype": "text/x-python",
   "name": "python",
   "nbconvert_exporter": "python",
   "pygments_lexer": "ipython3",
   "version": "3.10.8"
  }
 },
 "nbformat": 4,
 "nbformat_minor": 5
}
